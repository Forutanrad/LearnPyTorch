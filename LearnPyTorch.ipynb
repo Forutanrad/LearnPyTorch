{
  "cells": [
    {
      "cell_type": "markdown",
      "metadata": {
        "id": "view-in-github",
        "colab_type": "text"
      },
      "source": [
        "<a href=\"https://colab.research.google.com/github/Forutanrad/LearnPyTorch/blob/main/LearnPyTorch.ipynb\" target=\"_parent\"><img src=\"https://colab.research.google.com/assets/colab-badge.svg\" alt=\"Open In Colab\"/></a>"
      ]
    },
    {
      "cell_type": "markdown",
      "metadata": {
        "id": "6c2EFRFB0moA"
      },
      "source": [
        "**Javad ForutanRad** <br>\n",
        "Email: ForutanRad@gmail.com <br>\n",
        "linkedin: https://www.linkedin.com/in/forutanrad/\n"
      ]
    },
    {
      "cell_type": "code",
      "execution_count": null,
      "metadata": {
        "id": "Ohi7ngVj0moC"
      },
      "outputs": [],
      "source": [
        "import torch"
      ]
    },
    {
      "cell_type": "markdown",
      "source": [
        "#1-**Tensor**"
      ],
      "metadata": {
        "id": "AnOwsOkbSQnO"
      }
    },
    {
      "cell_type": "markdown",
      "metadata": {
        "id": "_xD55hUv0moF"
      },
      "source": [
        "![download.jpg](data:image/jpeg;base64,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)"
      ]
    },
    {
      "cell_type": "markdown",
      "metadata": {
        "id": "AN3ed4770moG"
      },
      "source": [
        "##**Tensor 0 D -- Scaler**"
      ]
    },
    {
      "cell_type": "code",
      "execution_count": null,
      "metadata": {
        "id": "HCt1PuxY0moG",
        "outputId": "adc9bb1a-798a-48a7-c096-6f628097ebb9",
        "colab": {
          "base_uri": "https://localhost:8080/"
        }
      },
      "outputs": [
        {
          "output_type": "stream",
          "name": "stdout",
          "text": [
            "tensor(5)\n",
            "torch.Size([])\n"
          ]
        }
      ],
      "source": [
        "tensor0d = torch.tensor(5)\n",
        "print(tensor0d)\n",
        "print(tensor0d.shape)"
      ]
    },
    {
      "cell_type": "markdown",
      "metadata": {
        "id": "69ob9sqQ0moJ"
      },
      "source": [
        "##**Tensor 1 D**  Vector"
      ]
    },
    {
      "cell_type": "code",
      "execution_count": null,
      "metadata": {
        "id": "TlcNDLwt0moK",
        "outputId": "361eae1a-b830-4fb3-bc6c-04f921dec151"
      },
      "outputs": [
        {
          "name": "stdout",
          "output_type": "stream",
          "text": [
            "tensor([ 1,  2, -5,  6])\n",
            "torch.Size([4])\n"
          ]
        }
      ],
      "source": [
        "tensor1d = torch.tensor([1,2,-5,6])\n",
        "print(tensor1d)\n",
        "print(tensor1d.shape)"
      ]
    },
    {
      "cell_type": "markdown",
      "metadata": {
        "id": "p5OVjhXT0moL"
      },
      "source": [
        "##**Tensor 2D** Matrix"
      ]
    },
    {
      "cell_type": "code",
      "execution_count": null,
      "metadata": {
        "id": "RkaR6Z4C0moM",
        "outputId": "3d89f11c-154c-48c1-ee7a-535138e25b9e"
      },
      "outputs": [
        {
          "name": "stdout",
          "output_type": "stream",
          "text": [
            "torch.Size([4, 3])\n",
            "tensor(4)\n"
          ]
        }
      ],
      "source": [
        "tensor2d = torch.tensor([[1,2,4],\n",
        "                        [3,4,5],\n",
        "                        [6,7,8],\n",
        "                        [9,10,11]])\n",
        "print(tensor2d.shape)\n",
        "print(tensor2d[0][2])"
      ]
    },
    {
      "cell_type": "code",
      "execution_count": null,
      "metadata": {
        "id": "1c8tzsQQ0moN",
        "outputId": "a17b3933-059d-48e3-a317-8269294c6608"
      },
      "outputs": [
        {
          "name": "stdout",
          "output_type": "stream",
          "text": [
            "torch.Size([2, 5])\n"
          ]
        }
      ],
      "source": [
        "tensor2_5d = torch.tensor([[2,3,4,5,6],\n",
        "                          [3,4,5,6,7]] )\n",
        "print(tensor2_5d.shape)"
      ]
    },
    {
      "cell_type": "markdown",
      "metadata": {
        "id": "3YOfgXAN0moO"
      },
      "source": [
        "##**Tensor 3d**"
      ]
    },
    {
      "cell_type": "code",
      "execution_count": null,
      "metadata": {
        "id": "EsxSgyM10moP",
        "outputId": "25b11012-1410-4e55-fb96-5a751f43d7f6"
      },
      "outputs": [
        {
          "name": "stdout",
          "output_type": "stream",
          "text": [
            "torch.Size([2, 4, 3])\n",
            "tensor([[[ 1,  2,  4],\n",
            "         [ 3,  4,  5],\n",
            "         [ 6,  7,  8],\n",
            "         [ 9, 10, 11]],\n",
            "\n",
            "        [[ 1,  2,  4],\n",
            "         [ 3,  4,  5],\n",
            "         [ 6,  7,  8],\n",
            "         [ 9, 10, 11]]])\n"
          ]
        }
      ],
      "source": [
        "tensor3d = torch.tensor([[[1,2,4],\n",
        "                        [3,4,5],\n",
        "                        [6,7,8],\n",
        "                        [9,10,11]]\n",
        "                        ,[[1,2,4],\n",
        "                        [3,4,5],\n",
        "                        [6,7,8],\n",
        "                        [9,10,11]]])\n",
        "print(tensor3d.shape)\n",
        "print(tensor3d)"
      ]
    },
    {
      "cell_type": "code",
      "execution_count": null,
      "metadata": {
        "id": "Wu4foZoR0moQ",
        "outputId": "e395457f-a9dc-4220-f366-ab615f4702aa"
      },
      "outputs": [
        {
          "name": "stdout",
          "output_type": "stream",
          "text": [
            "torch.Size([1, 1, 1])\n",
            "tensor([[[3.5000]]])\n"
          ]
        }
      ],
      "source": [
        "tensor3_1_1_1d = torch.tensor([[[3.5]]])\n",
        "print(tensor3_1_1_1d.shape)\n",
        "print(tensor3_1_1_1d)"
      ]
    },
    {
      "cell_type": "markdown",
      "metadata": {
        "id": "FkAqg3HV0moR"
      },
      "source": [
        "##**Tensor 4D**\n",
        "Tensor 2 * 1 * 1 * 3"
      ]
    },
    {
      "cell_type": "code",
      "execution_count": null,
      "metadata": {
        "id": "hERaeq5C0moS",
        "outputId": "b8273d9f-43b5-4d39-a778-59d494a33b4f",
        "colab": {
          "base_uri": "https://localhost:8080/"
        }
      },
      "outputs": [
        {
          "output_type": "stream",
          "name": "stdout",
          "text": [
            "tensor([[[[1, 2, 3]]],\n",
            "\n",
            "\n",
            "        [[[4, 5, 6]]]])\n",
            "torch.Size([2, 1, 1, 3])\n",
            "2\n",
            "torch.Size([2, 1, 1, 3])\n",
            "1\n"
          ]
        }
      ],
      "source": [
        "tensor4d = torch.tensor([\n",
        "                    [[[1,2,3]]],\n",
        "                    [[[4,5,6]]]\n",
        "                    ]\n",
        ")\n",
        "print(tensor4d)\n",
        "# shape\n",
        "print(tensor4d.shape)\n",
        "print(tensor4d.shape[0])\n",
        "# size\n",
        "print(tensor4d.size())\n",
        "print(tensor4d.size(1))"
      ]
    },
    {
      "cell_type": "markdown",
      "metadata": {
        "id": "I3f-nDSC0moT"
      },
      "source": [
        "#**2-Data Type in Pytorch**"
      ]
    },
    {
      "cell_type": "markdown",
      "source": [
        "[**Pytorch Data types**](https://pytorch.org/docs/stable/tensors.html)"
      ],
      "metadata": {
        "id": "dfiHK1m3Rzft"
      }
    },
    {
      "cell_type": "code",
      "source": [],
      "metadata": {
        "id": "rFbtkbEpQaCW"
      },
      "execution_count": null,
      "outputs": []
    },
    {
      "cell_type": "markdown",
      "metadata": {
        "id": "wy4EZF0O0moT"
      },
      "source": []
    },
    {
      "cell_type": "code",
      "execution_count": null,
      "metadata": {
        "id": "g1pmmz3Q0moU",
        "outputId": "cf729a46-1b4f-40d6-de8d-01d981c8b8fe",
        "colab": {
          "base_uri": "https://localhost:8080/"
        }
      },
      "outputs": [
        {
          "output_type": "stream",
          "name": "stdout",
          "text": [
            "torch.int64\n"
          ]
        }
      ],
      "source": [
        "print(tensor4d.dtype)"
      ]
    },
    {
      "cell_type": "markdown",
      "metadata": {
        "id": "m3Hzo8VP0moV"
      },
      "source": [
        "What is DataType 0D Tensor -12.5 ?"
      ]
    },
    {
      "cell_type": "code",
      "execution_count": null,
      "metadata": {
        "id": "Q702YUx80moV",
        "outputId": "d4c9dde2-8bcf-4e02-c727-16af9acd4692",
        "colab": {
          "base_uri": "https://localhost:8080/"
        }
      },
      "outputs": [
        {
          "output_type": "stream",
          "name": "stdout",
          "text": [
            "torch.float32\n",
            "tensor(-12.5000)\n"
          ]
        }
      ],
      "source": [
        "tensor = torch.tensor(-12.5)\n",
        "print(tensor.dtype)\n",
        "print(tensor)"
      ]
    },
    {
      "cell_type": "code",
      "execution_count": null,
      "metadata": {
        "id": "rYd277I70moW",
        "outputId": "b80cc171-e85c-444b-c4b6-ddbefd9e6d38",
        "colab": {
          "base_uri": "https://localhost:8080/"
        }
      },
      "outputs": [
        {
          "output_type": "stream",
          "name": "stdout",
          "text": [
            "torch.float32 tensor(2.2000)\n"
          ]
        }
      ],
      "source": [
        "tensor16 = torch.tensor(2.2, dtype=torch.float32)\n",
        "print(tensor16.dtype, tensor16)"
      ]
    },
    {
      "cell_type": "markdown",
      "metadata": {
        "id": "znWmvo-90moX"
      },
      "source": [
        "#***3-Special Tensor in PyTorch***"
      ]
    },
    {
      "cell_type": "markdown",
      "metadata": {
        "id": "OPF97f740moX"
      },
      "source": [
        "##**Zeros**"
      ]
    },
    {
      "cell_type": "code",
      "execution_count": null,
      "metadata": {
        "id": "VmbDR_pb0moY",
        "outputId": "ad017357-c895-4f95-9a12-35ae0bd3db34"
      },
      "outputs": [
        {
          "name": "stdout",
          "output_type": "stream",
          "text": [
            "tensor([0., 0., 0., 0., 0.]) torch.Size([5])\n",
            "5\n"
          ]
        }
      ],
      "source": [
        "zeros0d = torch.zeros(5)\n",
        "\n",
        "print(zeros0d, zeros0d.shape)\n",
        "print(zeros0d.size(0))"
      ]
    },
    {
      "cell_type": "code",
      "execution_count": null,
      "metadata": {
        "id": "WZIjTftO0moY",
        "outputId": "81b1a299-0cb1-48dc-822d-d5052a673909",
        "colab": {
          "base_uri": "https://localhost:8080/"
        }
      },
      "outputs": [
        {
          "output_type": "stream",
          "name": "stdout",
          "text": [
            "torch.Size([3, 5, 18])\n"
          ]
        }
      ],
      "source": [
        "zeros0d = torch.zeros(3, 5, 18)\n",
        "\n",
        "print( zeros0d.shape)\n",
        "# print(zeros0d)"
      ]
    },
    {
      "cell_type": "markdown",
      "metadata": {
        "id": "8qGsOkOO0moZ"
      },
      "source": [
        "##**numel()**  Number of all data stores in."
      ]
    },
    {
      "cell_type": "code",
      "execution_count": null,
      "metadata": {
        "id": "TGBTxR_T0moa",
        "outputId": "2a48da16-1ff9-4f3b-fe67-d00b0d32fcd2",
        "colab": {
          "base_uri": "https://localhost:8080/"
        }
      },
      "outputs": [
        {
          "output_type": "stream",
          "name": "stdout",
          "text": [
            "270\n"
          ]
        }
      ],
      "source": [
        "print(zeros0d.numel())"
      ]
    },
    {
      "cell_type": "code",
      "execution_count": null,
      "metadata": {
        "id": "nYSmLfbY0moa",
        "outputId": "3916bf9c-fb25-4f88-ee23-1a570771d40d"
      },
      "outputs": [
        {
          "name": "stdout",
          "output_type": "stream",
          "text": [
            "tensor([[0., 0., 0.],\n",
            "        [0., 0., 0.]], dtype=torch.float16)\n"
          ]
        }
      ],
      "source": [
        "zeros2d = torch.zeros(2,3, dtype=torch.float16)\n",
        "print(zeros2d)"
      ]
    },
    {
      "cell_type": "markdown",
      "metadata": {
        "id": "ml1hFyvr0mob"
      },
      "source": [
        "##**ones**"
      ]
    },
    {
      "cell_type": "code",
      "execution_count": null,
      "metadata": {
        "id": "EYwk0Ki30mob",
        "outputId": "4b03dd13-57a6-4b7a-f428-12b6eadd83a3"
      },
      "outputs": [
        {
          "name": "stdout",
          "output_type": "stream",
          "text": [
            "tensor([1., 1., 1., 1., 1.]) torch.Size([5]) torch.float32\n"
          ]
        }
      ],
      "source": [
        "ones1d = torch.ones(5)\n",
        "print(ones1d, ones1d.shape, ones1d.dtype)"
      ]
    },
    {
      "cell_type": "code",
      "execution_count": null,
      "metadata": {
        "id": "ll8hwGJt0moc",
        "outputId": "6f7e403d-7c45-4b6b-afec-c423afbf1681"
      },
      "outputs": [
        {
          "name": "stdout",
          "output_type": "stream",
          "text": [
            "18\n"
          ]
        }
      ],
      "source": [
        "ones3_6d = torch.ones(3,6, dtype=torch.int16)\n",
        "print(ones3_6d.numel())"
      ]
    },
    {
      "cell_type": "markdown",
      "metadata": {
        "id": "BF_juA2d0mod"
      },
      "source": [
        "##**Full**"
      ]
    },
    {
      "cell_type": "code",
      "execution_count": null,
      "metadata": {
        "colab": {
          "base_uri": "https://localhost:8080/"
        },
        "id": "ax5kBjth0mod",
        "outputId": "f5f348dc-4914-4714-f78f-328dfb9ea12a"
      },
      "outputs": [
        {
          "output_type": "stream",
          "name": "stdout",
          "text": [
            "270\n"
          ]
        }
      ],
      "source": [
        "full = torch.full((3, 5, 18), -0.25)\n",
        "print(full.numel())\n",
        "# print(full)"
      ]
    },
    {
      "cell_type": "code",
      "execution_count": null,
      "metadata": {
        "id": "ox4zwxct0moe",
        "outputId": "5353cf59-09f7-444c-dded-186ff5f7ff0f"
      },
      "outputs": [
        {
          "name": "stdout",
          "output_type": "stream",
          "text": [
            "tensor([10, 10, 10, 10, 10], dtype=torch.int16)\n"
          ]
        }
      ],
      "source": [
        "full5 = torch.full((5,), 10, dtype=torch.int16)\n",
        "print(full5)\n"
      ]
    },
    {
      "cell_type": "markdown",
      "metadata": {
        "id": "Z-87rxnG0mof"
      },
      "source": [
        "##**Identity function**"
      ]
    },
    {
      "cell_type": "code",
      "execution_count": null,
      "metadata": {
        "id": "waUvQJ6-0mof",
        "outputId": "2bb9e6f9-7fec-4993-83fe-c837eb004c8d",
        "colab": {
          "base_uri": "https://localhost:8080/"
        }
      },
      "outputs": [
        {
          "output_type": "stream",
          "name": "stdout",
          "text": [
            "tensor([[1., 0., 0., 0., 0.],\n",
            "        [0., 1., 0., 0., 0.],\n",
            "        [0., 0., 1., 0., 0.],\n",
            "        [0., 0., 0., 1., 0.],\n",
            "        [0., 0., 0., 0., 1.]])\n"
          ]
        }
      ],
      "source": [
        "eye = torch.eye(5)\n",
        "print(eye)"
      ]
    },
    {
      "cell_type": "code",
      "execution_count": null,
      "metadata": {
        "id": "gI0kHiqP0mog",
        "outputId": "5bf68872-659c-4d42-8a56-8ca901858e9d",
        "colab": {
          "base_uri": "https://localhost:8080/"
        }
      },
      "outputs": [
        {
          "output_type": "stream",
          "name": "stdout",
          "text": [
            "tensor([[1., 0., 0.],\n",
            "        [0., 1., 0.]])\n"
          ]
        }
      ],
      "source": [
        "eye2 = torch.eye(2, 3)\n",
        "print(eye2)"
      ]
    },
    {
      "cell_type": "markdown",
      "metadata": {
        "id": "7CsR7hK40moh"
      },
      "source": [
        "##**arange**  \n",
        "[start, end), step"
      ]
    },
    {
      "cell_type": "code",
      "execution_count": null,
      "metadata": {
        "id": "T39EICz10mo9",
        "outputId": "347aac30-8b1f-4260-eccc-e089c160de84",
        "colab": {
          "base_uri": "https://localhost:8080/"
        }
      },
      "outputs": [
        {
          "output_type": "stream",
          "name": "stdout",
          "text": [
            "tensor([ 0,  2,  4,  6,  8, 10, 12, 14, 16, 18])\n"
          ]
        }
      ],
      "source": [
        "arange1 = torch.arange(0, 20, 2)\n",
        "print(arange1)"
      ]
    },
    {
      "cell_type": "code",
      "execution_count": null,
      "metadata": {
        "id": "o8ModCj60mo9",
        "outputId": "c028ff7c-a178-4cfa-9ef2-0d7cb454a7a3",
        "colab": {
          "base_uri": "https://localhost:8080/"
        }
      },
      "outputs": [
        {
          "output_type": "stream",
          "name": "stdout",
          "text": [
            "tensor([-0.5000, -0.1700,  0.1600,  0.4900,  0.8200,  1.1500,  1.4800],\n",
            "       dtype=torch.float64) torch.Size([7])\n"
          ]
        }
      ],
      "source": [
        "arange2 = torch.arange(-0.5, 1.5, 0.33, dtype= torch.float64)\n",
        "print(arange2, arange2.shape)\n"
      ]
    },
    {
      "cell_type": "markdown",
      "metadata": {
        "id": "92zqF_Le0mo-"
      },
      "source": [
        "##**linspace**\n",
        "[start, end], Count"
      ]
    },
    {
      "cell_type": "code",
      "execution_count": null,
      "metadata": {
        "id": "b-EPjXlv0mo-",
        "outputId": "73549ec0-6ea8-4620-e86e-a6bda82e6d14"
      },
      "outputs": [
        {
          "name": "stdout",
          "output_type": "stream",
          "text": [
            "tensor([ 1.0000,  3.2500,  5.5000,  7.7500, 10.0000])\n"
          ]
        }
      ],
      "source": [
        "linespace = torch.linspace(1, 10, 5)\n",
        "print(linespace)"
      ]
    },
    {
      "cell_type": "markdown",
      "metadata": {
        "id": "94bIvjU80mo_"
      },
      "source": [
        "**empty**"
      ]
    },
    {
      "cell_type": "code",
      "execution_count": null,
      "metadata": {
        "id": "9yTj3FEj0mo_",
        "outputId": "dfe1540e-1844-4b84-d8eb-7758d0316e5d",
        "colab": {
          "base_uri": "https://localhost:8080/"
        }
      },
      "outputs": [
        {
          "output_type": "stream",
          "name": "stdout",
          "text": [
            "tensor([[  0,   0,   0,   0, -70],\n",
            "        [ 89,   0,   0, 123,  34]], dtype=torch.int8)\n"
          ]
        }
      ],
      "source": [
        "empty = torch.empty(2, 5, dtype= torch.int8)\n",
        "print(empty)"
      ]
    },
    {
      "cell_type": "markdown",
      "metadata": {
        "id": "7l3vzqN80mpA"
      },
      "source": [
        "#**4-Random Tensor im PyTorch**"
      ]
    },
    {
      "cell_type": "markdown",
      "metadata": {
        "id": "7BLsncHZ0mpA"
      },
      "source": [
        "##**rand**\n",
        "Uniform distribution [0 , 1]"
      ]
    },
    {
      "cell_type": "code",
      "execution_count": null,
      "metadata": {
        "id": "XLCyuWHE0mpA",
        "outputId": "665cf23c-1f24-4a53-ab95-af45960599ec",
        "colab": {
          "base_uri": "https://localhost:8080/"
        }
      },
      "outputs": [
        {
          "output_type": "stream",
          "name": "stdout",
          "text": [
            "tensor([0.2017, 0.3280, 0.6447, 0.3008, 0.4471])\n"
          ]
        }
      ],
      "source": [
        "rand1d = torch.rand(5)\n",
        "print(rand1d)"
      ]
    },
    {
      "cell_type": "code",
      "execution_count": null,
      "metadata": {
        "id": "l-KjcYR70mpB",
        "outputId": "ed596121-d057-4849-9f28-7e36a631366a",
        "colab": {
          "base_uri": "https://localhost:8080/",
          "height": 472
        }
      },
      "outputs": [
        {
          "output_type": "display_data",
          "data": {
            "text/plain": [
              "<Figure size 640x480 with 1 Axes>"
            ],
            "image/png": "[encoded data removed]"
          },
          "metadata": {}
        }
      ],
      "source": [
        "import matplotlib.pyplot as plt\n",
        "rand = torch.rand(1000)\n",
        "plt.hist(rand, 50,  color='blue')\n",
        "plt.xlabel('Between 0 - 1')\n",
        "plt.ylabel('Count')\n",
        "plt.title('uniform Distribution')\n",
        "plt.show()"
      ]
    },
    {
      "cell_type": "code",
      "execution_count": null,
      "metadata": {
        "id": "IM3bSXwx0mpB",
        "outputId": "87bd3e86-65e1-40fe-9619-0d8d4da8e1a0",
        "colab": {
          "base_uri": "https://localhost:8080/"
        }
      },
      "outputs": [
        {
          "output_type": "stream",
          "name": "stdout",
          "text": [
            "tensor([[0.9806, 0.2285, 0.8015],\n",
            "        [0.4113, 0.5314, 0.8623],\n",
            "        [0.7344, 0.4264, 0.6331],\n",
            "        [0.3700, 0.8286, 0.6157],\n",
            "        [0.5277, 0.0064, 0.6233]])\n"
          ]
        }
      ],
      "source": [
        "rand2d = torch.rand(5, 3)\n",
        "print(rand2d)\n"
      ]
    },
    {
      "cell_type": "code",
      "execution_count": null,
      "metadata": {
        "id": "9hK9Hpg20mpC",
        "outputId": "4d2bfc5a-f356-45e5-ce88-30a4f3c0fcfb"
      },
      "outputs": [
        {
          "name": "stdout",
          "output_type": "stream",
          "text": [
            "tensor([[[0.4346, 0.9355, 0.2866],\n",
            "         [0.4751, 0.3462, 0.2510],\n",
            "         [0.5737, 0.6611, 0.9541],\n",
            "         [0.4355, 0.8618, 0.9839]],\n",
            "\n",
            "        [[0.2773, 0.5420, 0.5933],\n",
            "         [0.6021, 0.6562, 0.5103],\n",
            "         [0.1216, 0.1885, 0.0596],\n",
            "         [0.9727, 0.7842, 0.4922]]], dtype=torch.float16)\n"
          ]
        }
      ],
      "source": [
        "rand3d = torch.rand(2, 4, 3, dtype=torch.float16)\n",
        "print(rand3d)"
      ]
    },
    {
      "cell_type": "code",
      "execution_count": null,
      "metadata": {
        "id": "8EjANqTJ0mpC",
        "outputId": "7a7f64bb-0c41-4c48-834b-e880fd022b39"
      },
      "outputs": [
        {
          "data": {
            "image/png": "[encoded data removed]",
            "text/plain": [
              "<Figure size 640x480 with 1 Axes>"
            ]
          },
          "metadata": {},
          "output_type": "display_data"
        }
      ],
      "source": [
        "import matplotlib.pyplot as plt\n",
        "rand = torch.rand(1000)\n",
        "plt.hist(rand, 25, color='red')\n",
        "plt.xlabel('x-u[0-1]')\n",
        "plt.ylabel('count')\n",
        "plt.title('Uniform distibuton histogram')\n",
        "plt.grid(True)"
      ]
    },
    {
      "cell_type": "markdown",
      "metadata": {
        "id": "eWHlPhK10mpD"
      },
      "source": [
        "##**randn**\n",
        "Gaussian distribution"
      ]
    },
    {
      "cell_type": "code",
      "execution_count": null,
      "metadata": {
        "id": "ZmJ1h3nl0mpD",
        "outputId": "3a8e4627-5038-495c-d23e-bbe1b848b2d5",
        "colab": {
          "base_uri": "https://localhost:8080/"
        }
      },
      "outputs": [
        {
          "output_type": "stream",
          "name": "stdout",
          "text": [
            "tensor([[-0.2734, -0.7164, -0.1293],\n",
            "        [-0.6439, -0.5161,  1.9652]])\n"
          ]
        }
      ],
      "source": [
        "randn2n = torch.randn(2, 3)\n",
        "print(randn2n)"
      ]
    },
    {
      "cell_type": "code",
      "execution_count": null,
      "metadata": {
        "id": "u7nJSpi10mpD",
        "outputId": "945a2c77-bac0-46b5-dc34-ad3ee91d6907",
        "colab": {
          "base_uri": "https://localhost:8080/",
          "height": 449
        }
      },
      "outputs": [
        {
          "output_type": "display_data",
          "data": {
            "text/plain": [
              "<Figure size 640x480 with 1 Axes>"
            ],
            "image/png": "[encoded data removed]"
          },
          "metadata": {}
        }
      ],
      "source": [
        "randn = torch.randn(10000)\n",
        "plt.hist(randn, 100, color='red')\n",
        "plt.xlabel('X-N(-4-4)')\n",
        "plt.ylabel('Count')\n",
        "plt.grid(True)"
      ]
    },
    {
      "cell_type": "markdown",
      "metadata": {
        "id": "HgtYPm6Y0mpE"
      },
      "source": [
        "**randint** integer number"
      ]
    },
    {
      "cell_type": "code",
      "execution_count": null,
      "metadata": {
        "id": "hWOcHNr50mpE",
        "outputId": "b63fdf90-836a-41ad-e7c6-3e3f8a9152eb"
      },
      "outputs": [
        {
          "name": "stdout",
          "output_type": "stream",
          "text": [
            "tensor([[5, 3, 4, 3, 0],\n",
            "        [3, 8, 3, 5, 3]])\n"
          ]
        }
      ],
      "source": [
        "randint2d = torch.randint(0,10, (2, 5))\n",
        "print(randint2d)"
      ]
    },
    {
      "cell_type": "markdown",
      "metadata": {
        "id": "0FBu2ZYd0mpE"
      },
      "source": [
        "**randperm**   0 to n-1"
      ]
    },
    {
      "cell_type": "code",
      "execution_count": null,
      "metadata": {
        "id": "7H3rga590mpF",
        "outputId": "b7d18c26-d6fd-4761-bb76-c7da69cf250c",
        "colab": {
          "base_uri": "https://localhost:8080/"
        }
      },
      "outputs": [
        {
          "output_type": "stream",
          "name": "stdout",
          "text": [
            "tensor([62, 71, 65, 74, 92, 38, 25, 69, 41, 67, 98, 53, 15, 77, 49, 80, 52, 81,\n",
            "        40, 61, 50,  7, 22, 86, 45, 33, 14, 64, 16, 55, 20, 66, 36, 83, 21, 73,\n",
            "        30, 97, 85, 46, 59, 56, 43, 24, 34, 51, 87, 44, 90, 10,  6,  3, 79, 58,\n",
            "        95, 78, 27,  8, 60, 63, 91,  1, 48, 39, 12, 88, 72, 29, 89, 13, 11, 94,\n",
            "        68, 32,  9, 47, 82,  4,  5, 93, 75, 19, 57, 26, 54, 42, 76, 17, 96, 70,\n",
            "        37, 31,  0,  2, 35, 99, 18, 23, 28, 84])\n"
          ]
        }
      ],
      "source": [
        "randperm = torch.randperm(100)\n",
        "print(randperm)"
      ]
    },
    {
      "cell_type": "markdown",
      "metadata": {
        "id": "g6nKN0rg0mpF"
      },
      "source": [
        "**seed**\n",
        "Generate Same Result after every Run"
      ]
    },
    {
      "cell_type": "code",
      "execution_count": null,
      "metadata": {
        "id": "M7ECyEyS0mpF",
        "outputId": "ea69e0d6-f72c-46ea-f478-bab8526703b9",
        "colab": {
          "base_uri": "https://localhost:8080/"
        }
      },
      "outputs": [
        {
          "output_type": "stream",
          "name": "stdout",
          "text": [
            "tensor([ 5, 13,  2, 11, 19, 18,  1,  9,  4,  7,  0, 14, 16, 10, 15,  3,  6, 17,\n",
            "        12,  8])\n"
          ]
        }
      ],
      "source": [
        "torch.manual_seed(1)\n",
        "randperm2 = torch.randperm(20)\n",
        "print(randperm2)"
      ]
    },
    {
      "cell_type": "markdown",
      "metadata": {
        "id": "cshcJbR00mpG"
      },
      "source": [
        "**Put and Use Index in Pytorch**"
      ]
    },
    {
      "cell_type": "code",
      "execution_count": null,
      "metadata": {
        "id": "zwbaSggv0mpG",
        "outputId": "20f53384-9ec5-46c5-e875-fbac9ddfd8fa"
      },
      "outputs": [
        {
          "name": "stdout",
          "output_type": "stream",
          "text": [
            "tensor([ 0.0436,  1.3240, -0.1005,  0.6443,  0.5244,  1.0157,  0.2571, -0.9013,\n",
            "         0.8138,  0.3871])\n",
            "tensor(1.0157)\n"
          ]
        }
      ],
      "source": [
        "a = torch.randn(10)\n",
        "print(a)\n",
        "print(a[5])"
      ]
    },
    {
      "cell_type": "code",
      "execution_count": null,
      "metadata": {
        "id": "9duDllQ-0mpH",
        "outputId": "7f0850cd-289f-43dc-82d6-9dedaf5a0453"
      },
      "outputs": [
        {
          "name": "stdout",
          "output_type": "stream",
          "text": [
            "40\n",
            "tensor(0.6696)\n",
            "tensor(0.1389) tensor(-0.7173) tensor(0.6696)\n",
            "tensor([[[[-0.6117, -1.6876,  0.3530,  0.3683],\n",
            "          [ 1.4880, -1.3451, -0.9675, -1.8558],\n",
            "          [ 0.1208,  0.7293, -1.8188,  0.1016],\n",
            "          [ 0.0834, -0.8883, -0.3490, -0.4198],\n",
            "          [ 0.2263,  2.1261, -0.3404,  0.7464]]],\n",
            "\n",
            "\n",
            "        [[[ 0.2328,  0.0054,  0.1899, -0.2596],\n",
            "          [ 0.4437, -0.8170, -0.2216,  0.3202],\n",
            "          [ 1.2325,  0.4544, -0.5968,  0.3122],\n",
            "          [-0.0969, -0.3050, -1.7810, -1.1760],\n",
            "          [-0.5025,  0.6696, -0.7173,  0.1389]]]])\n"
          ]
        }
      ],
      "source": [
        "b = torch.randn(2, 1, 5, 4)\n",
        "print(b.numel())\n",
        "print(b[1, 0, 4, 1])\n",
        "print(b[1, 0, 4, -1], b[1, 0, 4, -2], b[1, 0, 4, -3])\n",
        "print(b)"
      ]
    },
    {
      "cell_type": "code",
      "execution_count": null,
      "metadata": {
        "id": "wk74ZI690mpH",
        "outputId": "517f7feb-c340-4b03-9385-9ccf064327e8"
      },
      "outputs": [
        {
          "name": "stdout",
          "output_type": "stream",
          "text": [
            "tensor([ 0.0746, -0.9360, -0.9046, -0.0211, -1.8711,  0.0656,  0.6881,  1.6068,\n",
            "        -0.0484, -0.5624])\n",
            "tensor([-0.9046, -0.0211, -1.8711])\n"
          ]
        }
      ],
      "source": [
        "c = torch.randn(10)\n",
        "print(c)\n",
        "print(c[2:5])"
      ]
    },
    {
      "cell_type": "code",
      "execution_count": null,
      "metadata": {
        "id": "PIK6JK4t0mpH",
        "outputId": "56f9b392-4b71-4929-ac7c-60cb12e32246"
      },
      "outputs": [
        {
          "name": "stdout",
          "output_type": "stream",
          "text": [
            "tensor([[-1.1385, -0.2794,  1.2453,  2.2576, -1.0120],\n",
            "        [ 0.9927, -1.2597, -0.7705,  0.1846, -0.2931],\n",
            "        [-0.8538,  1.3385,  0.0630,  0.6483,  0.3597],\n",
            "        [ 0.0640,  0.8070,  1.7520, -0.5593,  0.2698],\n",
            "        [ 0.8896,  0.6924, -0.7119,  0.2805, -0.1950],\n",
            "        [ 0.4661, -1.8414,  0.8111,  0.5779, -0.6100],\n",
            "        [ 0.9665,  1.4517,  0.2500,  0.9068, -1.4391],\n",
            "        [-0.9568,  1.3356,  0.6212, -0.5027,  0.5482],\n",
            "        [ 0.7890, -1.6960, -0.7580, -0.8594, -0.1666],\n",
            "        [-1.5834, -1.5316, -0.0747,  0.3134, -0.8992]])\n",
            "tensor([[ 0.0630,  0.6483],\n",
            "        [ 1.7520, -0.5593],\n",
            "        [-0.7119,  0.2805]])\n"
          ]
        }
      ],
      "source": [
        "c = torch.randn(10, 5)\n",
        "print(c)\n",
        "print(c[2:5, 2:4])"
      ]
    }
  ],
  "metadata": {
    "kernelspec": {
      "display_name": "Python 3.10.4 64-bit",
      "language": "python",
      "name": "python3"
    },
    "language_info": {
      "codemirror_mode": {
        "name": "ipython",
        "version": 3
      },
      "file_extension": ".py",
      "mimetype": "text/x-python",
      "name": "python",
      "nbconvert_exporter": "python",
      "pygments_lexer": "ipython3",
      "version": "3.10.12"
    },
    "orig_nbformat": 4,
    "vscode": {
      "interpreter": {
        "hash": "916dbcbb3f70747c44a77c7bcd40155683ae19c65e1c03b4aa3499c5328201f1"
      }
    },
    "colab": {
      "provenance": [],
      "toc_visible": true,
      "include_colab_link": true
    }
  },
  "nbformat": 4,
  "nbformat_minor": 0
}